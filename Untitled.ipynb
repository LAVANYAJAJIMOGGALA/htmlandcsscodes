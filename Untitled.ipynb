{
  "nbformat": 4,
  "nbformat_minor": 0,
  "metadata": {
    "colab": {
      "provenance": [],
      "authorship_tag": "ABX9TyNwIXyCsAkI3VNq+s7WwQCy",
      "include_colab_link": true
    },
    "kernelspec": {
      "name": "python3",
      "display_name": "Python 3"
    },
    "language_info": {
      "name": "python"
    }
  },
  "cells": [
    {
      "cell_type": "markdown",
      "metadata": {
        "id": "view-in-github",
        "colab_type": "text"
      },
      "source": [
        "<a href=\"https://colab.research.google.com/github/LAVANYAJAJIMOGGALA/htmlandcsscodes/blob/main/Untitled.ipynb\" target=\"_parent\"><img src=\"https://colab.research.google.com/assets/colab-badge.svg\" alt=\"Open In Colab\"/></a>"
      ]
    },
    {
      "cell_type": "code",
      "execution_count": null,
      "metadata": {
        "id": "QLWbcIMG5Wo7"
      },
      "outputs": [],
      "source": [
        "import requests\n",
        "from bs4 import BeautifulSoup"
      ]
    },
    {
      "cell_type": "code",
      "source": [
        "HEADERS = {\n",
        "    \"User-Agent\": \"Mozilla/5.0 (Windows NT 10.0; Win64; x64) AppleWebKit/537.36 (KHTML, like Gecko) Chrome/91.0.4472.124 Safari/537.36\"\n",
        "}"
      ],
      "metadata": {
        "id": "h48_anVb59UM"
      },
      "execution_count": 1,
      "outputs": []
    },
    {
      "cell_type": "code",
      "source": [
        "def scrape_indeed(job_title, location=\"India\"):\n",
        "    job_title = \"+\".join(job_title.split())\n",
        "    location = \"+\".join(location.split())\n",
        "    url = f\"https://www.indeed.com/jobs?q={job_title}&l={location}\"\n",
        "    print(f\"\\n🔍 Searching on Indeed: {url}\")\n",
        "    return url"
      ],
      "metadata": {
        "id": "kDYgZr8J7FT1"
      },
      "execution_count": 2,
      "outputs": []
    },
    {
      "cell_type": "code",
      "source": [
        "def scrape_linkedin(job_title, location=\"India\"):\n",
        "    job_title = \"-\".join(job_title.split())\n",
        "    location = \"-\".join(location.split())\n",
        "    url = f\"https://www.linkedin.com/jobs/search/?keywords={job_title}&location={location}\"\n",
        "    print(f\"\\n🔍 Searching on LinkedIn: {url}\")\n",
        "    return url\n"
      ],
      "metadata": {
        "id": "Dv8yako77G7a"
      },
      "execution_count": 3,
      "outputs": []
    },
    {
      "cell_type": "code",
      "source": [
        "def scrape_glassdoor(job_title, location=\"India\"):\n",
        "    job_title = \"-\".join(job_title.split())\n",
        "    location = \"-\".join(location.split())\n",
        "    url = f\"https://www.glassdoor.com/Job/{location}-{job_title}-jobs-SRCH_IL.0,6_IC2671300_KO7,15.htm\"\n",
        "    print(f\"\\n🔍 Searching on Glassdoor: {url}\")\n",
        "    return url\n"
      ],
      "metadata": {
        "id": "Mq-hyf4k7XNb"
      },
      "execution_count": 4,
      "outputs": []
    },
    {
      "cell_type": "code",
      "source": [
        "def scrape_monster(job_title, location=\"India\"):\n",
        "    job_title = \"-\".join(job_title.split())\n",
        "    location = \"-\".join(location.split())\n",
        "    url = f\"https://www.monster.com/jobs/search/?q={job_title}&where={location}\"\n",
        "    print(f\"\\n🔍 Searching on Monster: {url}\")\n",
        "    return url"
      ],
      "metadata": {
        "id": "8ilARpUy7dLy"
      },
      "execution_count": 5,
      "outputs": []
    },
    {
      "cell_type": "code",
      "source": [
        "def scrape_naukri(job_title, location=\"India\"):\n",
        "    job_title = \"+\".join(job_title.split())\n",
        "    location = \"+\".join(location.split())\n",
        "    url = f\"https://www.naukri.com/{job_title}-jobs-in-{location}\"\n",
        "    print(f\"\\n🔍 Searching on Naukri: {url}\")\n",
        "    return url\n"
      ],
      "metadata": {
        "id": "2rQX-vNB7jJT"
      },
      "execution_count": 6,
      "outputs": []
    },
    {
      "cell_type": "code",
      "source": [
        "def get_jobs_from_all_sites(job_title, location):\n",
        "    search_urls = {\n",
        "        \"Indeed\": scrape_indeed(job_title, location),\n",
        "        \"LinkedIn\": scrape_linkedin(job_title, location),\n",
        "        \"Glassdoor\": scrape_glassdoor(job_title, location),\n",
        "        \"Monster\": scrape_monster(job_title, location),\n",
        "        \"Naukri\": scrape_naukri(job_title, location)\n",
        "    }\n",
        "    return search_urls\n",
        "  '''  if _name_ == \"_main_\":\n",
        "      job_title = input(\"Enter the job title: \")\n",
        "      location = input(\"Enter the job location (default: India): \") or \"India\"\n",
        "\n",
        "      job_search_results = get_jobs_from_all_sites(job_title, location)'''"
      ],
      "metadata": {
        "id": "Q3okiHEi7kqk"
      },
      "execution_count": 13,
      "outputs": []
    },
    {
      "cell_type": "code",
      "source": [
        "if __name__== \"__main__\":\n",
        "  job_title = input(\"Enter the job title: \")\n",
        "  location = input(\"Enter the job location (default: India): \") or \"India\"\n",
        "\n",
        "  job_search_results = get_jobs_from_all_sites(job_title, location)"
      ],
      "metadata": {
        "colab": {
          "base_uri": "https://localhost:8080/"
        },
        "id": "2opL5l6m8xX-",
        "outputId": "6a4f32ad-77e7-45cf-b29e-8aed08c44f81"
      },
      "execution_count": 17,
      "outputs": [
        {
          "output_type": "stream",
          "name": "stdout",
          "text": [
            "Enter the job title: java developer\n",
            "Enter the job location (default: India): bangalore\n",
            "\n",
            "🔍 Searching on Indeed: https://www.indeed.com/jobs?q=java+developer&l=bangalore\n",
            "\n",
            "🔍 Searching on LinkedIn: https://www.linkedin.com/jobs/search/?keywords=java-developer&location=bangalore\n",
            "\n",
            "🔍 Searching on Glassdoor: https://www.glassdoor.com/Job/bangalore-java-developer-jobs-SRCH_IL.0,6_IC2671300_KO7,15.htm\n",
            "\n",
            "🔍 Searching on Monster: https://www.monster.com/jobs/search/?q=java-developer&where=bangalore\n",
            "\n",
            "🔍 Searching on Naukri: https://www.naukri.com/java+developer-jobs-in-bangalore\n"
          ]
        }
      ]
    }
  ]
}